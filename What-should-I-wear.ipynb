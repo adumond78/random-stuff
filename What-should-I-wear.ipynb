{
 "cells": [
  {
   "cell_type": "markdown",
   "metadata": {},
   "source": [
    "# **Should I wear a jacket**"
   ]
  },
  {
   "cell_type": "code",
   "execution_count": 5,
   "metadata": {},
   "outputs": [],
   "source": [
    "Temperature = 21\n",
    "Conditions = 'sunny'"
   ]
  },
  {
   "cell_type": "code",
   "execution_count": 6,
   "metadata": {},
   "outputs": [
    {
     "name": "stdout",
     "output_type": "stream",
     "text": [
      "t-shirt\n"
     ]
    }
   ],
   "source": [
    "\n",
    "ConditionsList= ['snow','rain','sunny','cloudy','foggy']\n",
    "ClothingList = ['t-shirt','Sweater','light jacket','rain jacket','winter jacket']\n",
    "\n",
    "#this section is used to determine if a T-shirt should be worn\n",
    "\n",
    "if Temperature >= 18 and Conditions == ConditionsList[2]:\n",
    "    print(ClothingList[0])\n",
    "else:\n",
    "    pass\n",
    "\n",
    "#This section determines if a rain jacket should be worn\n",
    "\n",
    "if Temperature >= 18 and Conditions == ConditionsList[1]:\n",
    "    print(ClothingList[3])\n",
    "else:\n",
    "    pass\n",
    "\n",
    "#This section determines if a light jacket should be worn\n",
    "\n",
    "if Temperature in range(5,18) and Conditions == ConditionsList[1]:\n",
    "    print(ClothingList[2])\n",
    "else:\n",
    "    pass\n",
    "\n",
    "#this section determines if a sweater should be worn\n",
    "\n",
    "if Temperature in range(5,18) and Conditions == ConditionsList[2] or Temperature in range(5,18) and Conditions == ConditionsList[3] or Temperature in range(5,18) and Conditions == ConditionsList[4]:\n",
    "    print(ClothingList[1])\n",
    "else:\n",
    "    pass\n",
    "\n",
    "\n",
    "#this section determines if a winter jacket should be worn\n",
    "if Temperature <5:\n",
    "    print(ClothingList[4])\n",
    "else:\n",
    "    pass\n"
   ]
  },
  {
   "cell_type": "code",
   "execution_count": null,
   "metadata": {},
   "outputs": [],
   "source": []
  }
 ],
 "metadata": {
  "kernelspec": {
   "display_name": "Python 3",
   "language": "python",
   "name": "python3"
  },
  "language_info": {
   "codemirror_mode": {
    "name": "ipython",
    "version": 3
   },
   "file_extension": ".py",
   "mimetype": "text/x-python",
   "name": "python",
   "nbconvert_exporter": "python",
   "pygments_lexer": "ipython3",
   "version": "3.6.5"
  }
 },
 "nbformat": 4,
 "nbformat_minor": 2
}
